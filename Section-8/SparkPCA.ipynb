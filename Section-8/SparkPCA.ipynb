{
 "cells": [
  {
   "cell_type": "code",
   "execution_count": null,
   "metadata": {},
   "outputs": [],
   "source": [
    "from pyspark import SparkConf, SparkContext\n",
    "from pyspark.mllib.feature import HashingTF\n",
    "from pyspark.mllib.feature import IDF\n",
    "#from pyspark.mllib.linalg.distributed import RowMatrix\n",
    "from pyspark.mllib.feature import PCA as PCAmllib\n",
    "\n",
    "# Boilerplate Spark stuff:\n",
    "conf = SparkConf().setMaster(\"local\").setAppName(\"SparkTFIDF\")\n",
    "sc = SparkContext(conf = conf)\n",
    "\n",
    "# Load documents (one per line).\n",
    "rawData = sc.textFile(\"assets/subset-small.tsv\")\n",
    "fields = rawData.map(lambda x: x.split(\"\\t\"))\n",
    "documents = fields.map(lambda x: x[3].split(\" \"))\n",
    "\n",
    "# Store the document names for later:\n",
    "documentNames = fields.map(lambda x: x[1])\n",
    "\n",
    "# Now hash the words in each document to their term frequencies:\n",
    "hashingTF = HashingTF(100000)  #100K hash buckets just to save some memory\n",
    "tf = hashingTF.transform(documents)\n",
    "\n",
    "# At this point we have an RDD of sparse vectors representing each document,\n",
    "# where each value maps to the term frequency of each unique hash value.\n",
    "\n",
    "# Let's compute the TF*IDF of each term in each document:\n",
    "tf.cache()\n",
    "idf = IDF(minDocFreq=2).fit(tf)\n",
    "tfidf = idf.transform(tf)\n",
    "\n",
    "# Now we have an RDD of sparse vectors, where each value is the TFxIDF\n",
    "# of each unique hash value for each document.\n",
    "model = PCAmllib(2).fit(tfidf)\n",
    "pc = model.transform(tfidf)\n",
    "\n",
    "#mat = RowMatrix(tfidf)\n",
    "# Calculate PCA\n",
    "#pc = mat.computePrincipalComponents(int(mat.numCols))\n",
    "\n",
    "print(\"Principal components :\")\n",
    "print(pc)\n"
   ]
  },
  {
   "cell_type": "code",
   "execution_count": null,
   "metadata": {},
   "outputs": [],
   "source": [
    "# If you get \"ValueError: Cannot run multiple SparkContexts at once\"\n",
    "# run this cell to stop the currently running SparkContext and try again.\n",
    "sc.stop()"
   ]
  }
 ],
 "metadata": {
  "kernelspec": {
   "display_name": "Python 3",
   "language": "python",
   "name": "python3"
  },
  "language_info": {
   "codemirror_mode": {
    "name": "ipython",
    "version": 3
   },
   "file_extension": ".py",
   "mimetype": "text/x-python",
   "name": "python",
   "nbconvert_exporter": "python",
   "pygments_lexer": "ipython3",
   "version": "3.8.5"
  }
 },
 "nbformat": 4,
 "nbformat_minor": 4
}
